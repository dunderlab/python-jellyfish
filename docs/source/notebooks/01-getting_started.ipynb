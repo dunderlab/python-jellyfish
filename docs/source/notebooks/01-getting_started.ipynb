{
 "cells": [
  {
   "cell_type": "markdown",
   "id": "f47092f9-ea2c-47bd-abd1-0c5f95597159",
   "metadata": {},
   "source": [
    "# Installl"
   ]
  },
  {
   "cell_type": "markdown",
   "id": "340ed955-8680-40fa-8f57-bf426aa91d89",
   "metadata": {},
   "source": [
    "# Q&A"
   ]
  },
  {
   "cell_type": "code",
   "execution_count": null,
   "id": "cca2e36e-8440-474e-a0e9-d3a3a20450d7",
   "metadata": {},
   "outputs": [],
   "source": []
  }
 ],
 "metadata": {
  "kernelspec": {
   "display_name": "Python 3 (ipykernel)",
   "language": "python",
   "name": "python3"
  },
  "language_info": {
   "codemirror_mode": {
    "name": "ipython",
    "version": 3
   },
   "file_extension": ".py",
   "mimetype": "text/x-python",
   "name": "python",
   "nbconvert_exporter": "python",
   "pygments_lexer": "ipython3",
   "version": "3.11.7"
  }
 },
 "nbformat": 4,
 "nbformat_minor": 5
}
