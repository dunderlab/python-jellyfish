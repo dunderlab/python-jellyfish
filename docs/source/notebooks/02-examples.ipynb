{
 "cells": [
  {
   "cell_type": "markdown",
   "id": "d6519e3c-587b-49cd-9317-0e731b4cfd63",
   "metadata": {},
   "source": [
    "# Example 01 - Lorem ipsum dolor sit amet"
   ]
  }
 ],
 "metadata": {
  "kernelspec": {
   "display_name": "Python 3 (ipykernel)",
   "language": "python",
   "name": "python3"
  },
  "language_info": {
   "codemirror_mode": {
    "name": "ipython",
    "version": 3
   },
   "file_extension": ".py",
   "mimetype": "text/x-python",
   "name": "python",
   "nbconvert_exporter": "python",
   "pygments_lexer": "ipython3",
   "version": "3.11.7"
  }
 },
 "nbformat": 4,
 "nbformat_minor": 5
}
